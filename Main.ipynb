{
 "cells": [
  {
   "cell_type": "code",
   "execution_count": 1,
   "metadata": {},
   "outputs": [],
   "source": [
    "import time\n",
    "import requests\n",
    "from plyer import notification"
   ]
  },
  {
   "cell_type": "code",
   "execution_count": 2,
   "metadata": {},
   "outputs": [],
   "source": [
    "def get_weather_data(city, api_key):\n",
    " \n",
    "    base_url = \"http://api.weatherapi.com/v1/current.json\"    \n",
    "  \n",
    "    complete_url = f\"{base_url}?key={api_key}&q={city}\"\n",
    "   \n",
    "    print(complete_url)\n",
    "    response = requests.get(complete_url)\n",
    "    data = response.json()\n",
    "\n",
    "    if \"error\" not in data:\n",
    "        temperature = data[\"current\"][\"temp_c\"]\n",
    "        weather_description = data[\"current\"][\"condition\"][\"text\"]\n",
    "        uvIndex = data[\"current\"][\"uv\"]\n",
    "\n",
    "        return temperature, weather_description, uvIndex\n",
    "    else:\n",
    "        return None, None, None"
   ]
  },
  {
   "cell_type": "code",
   "execution_count": 3,
   "metadata": {},
   "outputs": [],
   "source": [
    "def send_notification(title, message, app_name=\"Weather Report\",  timeout=3):\n",
    "    notification.notify(title=title,\n",
    "                        message=message,\n",
    "                        timeout=timeout,\n",
    "                        app_name=app_name\n",
    "                        )"
   ]
  },
  {
   "cell_type": "code",
   "execution_count": 4,
   "metadata": {},
   "outputs": [
    {
     "name": "stdout",
     "output_type": "stream",
     "text": [
      "http://api.weatherapi.com/v1/current.json?key=8a49a23b8ce14c5cb91105856&q=Bhubaneswar\n",
      "Error: Cannot fetch weather data\n"
     ]
    }
   ],
   "source": [
    "if __name__ == \"__main__\":\n",
    "    api_key = \"8a49a23b8ce14c5cb91105856\"  # API key\n",
    "    city = \"Bhubaneswar\"  # City you want to fetch weather data for\n",
    "\n",
    "    while True:\n",
    "        temperature, weather_description, uv = get_weather_data(city, api_key)\n",
    "        if temperature and weather_description and uv:\n",
    "            title = f\"Weather in {city}\"\n",
    "            if (uv >= 9) :\n",
    "                msg = \"T0000! High radiation...\"\n",
    "                message = f\"Temperature: {temperature:.1f}°C\\tUV Index: {uv:.1f}\\nMessage : {msg}\\nDescription: {weather_description}\"\n",
    "            else :    \n",
    "                message = f\"Temperature: {temperature:.1f}°C\\tUV Index: {uv:.1f}\\nDescription: {weather_description}\"\n",
    "            send_notification(title, message)\n",
    "        else:\n",
    "            print(\"Error: Cannot fetch weather data\")\n",
    "            \n",
    "\n",
    "        time.sleep(60)  # Update weather data every 1min\n",
    "    \n"
   ]
  },
  {
   "cell_type": "code",
   "execution_count": null,
   "metadata": {},
   "outputs": [],
   "source": []
  }
 ],
 "metadata": {
  "kernelspec": {
   "display_name": "ttlproject",
   "language": "python",
   "name": "python3"
  },
  "language_info": {
   "codemirror_mode": {
    "name": "ipython",
    "version": 3
   },
   "file_extension": ".py",
   "mimetype": "text/x-python",
   "name": "python",
   "nbconvert_exporter": "python",
   "pygments_lexer": "ipython3",
   "version": "3.11.2"
  },
  "orig_nbformat": 4
 },
 "nbformat": 4,
 "nbformat_minor": 2
}
